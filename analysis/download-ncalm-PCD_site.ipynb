{
 "cells": [
  {
   "cell_type": "code",
   "execution_count": 1,
   "id": "cbe5a31f-4450-4c54-abf7-f10466702b10",
   "metadata": {},
   "outputs": [
    {
     "name": "stderr",
     "output_type": "stream",
     "text": [
      "/panfs/ccds02/nobackup/people/sbhusha1/sw/coincident/src/coincident/io/download.py:26: TqdmExperimentalWarning: Using `tqdm.autonotebook.tqdm` in notebook mode. Use `tqdm.tqdm` instead to force console mode (e.g. in jupyter console)\n",
      "  from tqdm.autonotebook import tqdm\n",
      "/panfs/ccds02/nobackup/people/sbhusha1/sw/coincident/src/coincident/search/main.py:14: UserWarning: Unable to authenticate with Maxar API. Please set MAXAR_API_KEY environment variable.\n",
      "  from coincident.search import neon_api, opentopo_api, stac, wesm\n"
     ]
    }
   ],
   "source": [
    "import os\n",
    "import coincident\n",
    "import geopandas as gpd\n",
    "from shapely.geometry import box\n",
    "import matplotlib.pyplot as plt\n",
    "import numpy as np"
   ]
  },
  {
   "cell_type": "markdown",
   "id": "7981ab22-1c95-4d37-9d34-8af13a1c9652",
   "metadata": {},
   "source": [
    "## Attempt 1: Use Coincident example"
   ]
  },
  {
   "cell_type": "code",
   "execution_count": 3,
   "id": "e46ec07a-3ddd-4f97-8634-74d7022c98a4",
   "metadata": {},
   "outputs": [],
   "source": [
    "gdf_ncalm = gpd.read_file('20250722_PCD_ncalm_sfm_footprints.geojson')\n",
    "gdf_fourway = gpd.read_file('20250722_PCD_ncalm_fourway_overlap.geojson')\n",
    "gdf_stereo = gpd.read_file('20250722_PCD_ncalm_stereo_footprints.geojson')"
   ]
  },
  {
   "cell_type": "code",
   "execution_count": 4,
   "id": "5d36eeee-c1b5-48b4-8591-1e807cc18383",
   "metadata": {},
   "outputs": [],
   "source": [
    "gdf_proc_extent = gpd.GeoDataFrame(geometry=[box(*gdf_fourway.total_bounds)],\n",
    "                                    crs=gdf_fourway.crs)"
   ]
  },
  {
   "cell_type": "code",
   "execution_count": 5,
   "id": "6f405df6-0d62-43c6-bc28-956dc418d49b",
   "metadata": {},
   "outputs": [
    {
     "data": {
      "text/plain": [
       "<Axes: >"
      ]
     },
     "execution_count": 5,
     "metadata": {},
     "output_type": "execute_result"
    },
    {
     "data": {
      "image/png": "[encoded data removed]",
      "text/plain": [
       "<Figure size 640x480 with 1 Axes>"
      ]
     },
     "metadata": {},
     "output_type": "display_data"
    }
   ],
   "source": [
    "f,ax = plt.subplots()\n",
    "gdf_ncalm.plot(ax=ax)\n",
    "gdf_stereo.plot(ax=ax,facecolor='None',edgecolor='r')\n",
    "gdf_fourway.plot(ax=ax,facecolor='None',edgecolor='k')\n",
    "gdf_proc_extent.plot(ax=ax,facecolor='None',edgecolor='green')"
   ]
  },
  {
   "cell_type": "code",
   "execution_count": 9,
   "id": "e318ff6e-9531-4840-9bc5-1798a88a267d",
   "metadata": {},
   "outputs": [],
   "source": [
    "output_dir = '/panfs/ccds02/nobackup/people/sbhusha1/pcd/ncalm/sa_fault/'\n",
    "if not os.path.exists(output_dir):\n",
    "    os.makedirs(output_dir)"
   ]
  },
  {
   "cell_type": "code",
   "execution_count": 6,
   "id": "046eb1d2-4007-4c03-884a-6d6d9bf47b23",
   "metadata": {},
   "outputs": [],
   "source": [
    "gf_ncalm = coincident.search.search(\n",
    "    dataset=\"ncalm\", intersects=gdf_proc_extent, datetime=[\"2020-02-15\"]\n",
    ")"
   ]
  },
  {
   "cell_type": "code",
   "execution_count": 18,
   "id": "835275c3-0705-4bd7-84d3-678aaf9e6da4",
   "metadata": {},
   "outputs": [
    {
     "ename": "NoDataInBounds",
     "evalue": "No data found in bounds.",
     "output_type": "error",
     "traceback": [
      "\u001b[31m---------------------------------------------------------------------------\u001b[39m",
      "\u001b[31mNoDataInBounds\u001b[39m                            Traceback (most recent call last)",
      "\u001b[36mCell\u001b[39m\u001b[36m \u001b[39m\u001b[32mIn[18]\u001b[39m\u001b[32m, line 1\u001b[39m\n\u001b[32m----> \u001b[39m\u001b[32m1\u001b[39m \u001b[43mcoincident\u001b[49m\u001b[43m.\u001b[49m\u001b[43mio\u001b[49m\u001b[43m.\u001b[49m\u001b[43mdownload\u001b[49m\u001b[43m.\u001b[49m\u001b[43mdownload_ncalm_dem\u001b[49m\u001b[43m(\u001b[49m\n\u001b[32m      2\u001b[39m \u001b[43m    \u001b[49m\u001b[43maoi\u001b[49m\u001b[43m=\u001b[49m\u001b[43mtapped_bounds\u001b[49m\u001b[43m,\u001b[49m\n\u001b[32m      3\u001b[39m \u001b[43m    \u001b[49m\u001b[43mdataset_id\u001b[49m\u001b[43m=\u001b[49m\u001b[43mgf_ncalm\u001b[49m\u001b[43m[\u001b[49m\u001b[33;43m\"\u001b[39;49m\u001b[33;43mname\u001b[39;49m\u001b[33;43m\"\u001b[39;49m\u001b[43m]\u001b[49m\u001b[43m.\u001b[49m\u001b[43mitem\u001b[49m\u001b[43m(\u001b[49m\u001b[43m)\u001b[49m\u001b[43m,\u001b[49m\n\u001b[32m      4\u001b[39m \u001b[43m    \u001b[49m\u001b[43mproduct\u001b[49m\u001b[43m=\u001b[49m\u001b[33;43m'\u001b[39;49m\u001b[33;43mdsm\u001b[39;49m\u001b[33;43m'\u001b[39;49m\u001b[43m,\u001b[49m\n\u001b[32m      5\u001b[39m \u001b[43m    \u001b[49m\u001b[43moutput_dir\u001b[49m\u001b[43m=\u001b[49m\u001b[43moutput_dir\u001b[49m\u001b[43m)\u001b[49m\n",
      "\u001b[36mFile \u001b[39m\u001b[32m/panfs/ccds02/nobackup/people/sbhusha1/sw/coincident/src/coincident/io/download.py:1007\u001b[39m, in \u001b[36mdownload_ncalm_dem\u001b[39m\u001b[34m(aoi, dataset_id, product, output_dir)\u001b[39m\n\u001b[32m   1004\u001b[39m     dem = dem.rio.reproject(aoi_crs)\n\u001b[32m   1006\u001b[39m \u001b[38;5;66;03m# Clip to AOI\u001b[39;00m\n\u001b[32m-> \u001b[39m\u001b[32m1007\u001b[39m dem_clipped = \u001b[43mdem\u001b[49m\u001b[43m.\u001b[49m\u001b[43mrio\u001b[49m\u001b[43m.\u001b[49m\u001b[43mclip\u001b[49m\u001b[43m(\u001b[49m\u001b[43maoi_utm\u001b[49m\u001b[43m.\u001b[49m\u001b[43mgeometry\u001b[49m\u001b[43m,\u001b[49m\u001b[43m \u001b[49m\u001b[43maoi_utm\u001b[49m\u001b[43m.\u001b[49m\u001b[43mcrs\u001b[49m\u001b[43m)\u001b[49m\n\u001b[32m   1009\u001b[39m \u001b[38;5;66;03m# Save output\u001b[39;00m\n\u001b[32m   1010\u001b[39m output_name = \u001b[33mf\u001b[39m\u001b[33m\"\u001b[39m\u001b[33mclipped_\u001b[39m\u001b[38;5;132;01m{\u001b[39;00mPath(dem_key).stem\u001b[38;5;132;01m}\u001b[39;00m\u001b[33m_\u001b[39m\u001b[38;5;132;01m{\u001b[39;00mproduct\u001b[38;5;132;01m}\u001b[39;00m\u001b[33m.tif\u001b[39m\u001b[33m\"\u001b[39m\n",
      "\u001b[36mFile \u001b[39m\u001b[32m~/.conda/envs/coincident/lib/python3.13/site-packages/rioxarray/raster_array.py:974\u001b[39m, in \u001b[36mRasterArray.clip\u001b[39m\u001b[34m(self, geometries, crs, all_touched, drop, invert, from_disk)\u001b[39m\n\u001b[32m    962\u001b[39m     cropped_ds = _clip_xarray(\n\u001b[32m    963\u001b[39m         \u001b[38;5;28mself\u001b[39m._obj,\n\u001b[32m    964\u001b[39m         geometries=geometries,\n\u001b[32m   (...)\u001b[39m\u001b[32m    967\u001b[39m         invert=invert,\n\u001b[32m    968\u001b[39m     )\n\u001b[32m    970\u001b[39m \u001b[38;5;28;01mif\u001b[39;00m (\n\u001b[32m    971\u001b[39m     cropped_ds.coords[\u001b[38;5;28mself\u001b[39m.x_dim].size < \u001b[32m1\u001b[39m\n\u001b[32m    972\u001b[39m     \u001b[38;5;129;01mor\u001b[39;00m cropped_ds.coords[\u001b[38;5;28mself\u001b[39m.y_dim].size < \u001b[32m1\u001b[39m\n\u001b[32m    973\u001b[39m ):\n\u001b[32m--> \u001b[39m\u001b[32m974\u001b[39m     \u001b[38;5;28;01mraise\u001b[39;00m NoDataInBounds(\n\u001b[32m    975\u001b[39m         \u001b[33mf\u001b[39m\u001b[33m\"\u001b[39m\u001b[33mNo data found in bounds.\u001b[39m\u001b[38;5;132;01m{\u001b[39;00m_get_data_var_message(\u001b[38;5;28mself\u001b[39m._obj)\u001b[38;5;132;01m}\u001b[39;00m\u001b[33m\"\u001b[39m\n\u001b[32m    976\u001b[39m     )\n\u001b[32m    978\u001b[39m \u001b[38;5;66;03m# make sure correct attributes preserved & projection added\u001b[39;00m\n\u001b[32m    979\u001b[39m _add_attrs_proj(new_data_array=cropped_ds, src_data_array=\u001b[38;5;28mself\u001b[39m._obj)\n",
      "\u001b[31mNoDataInBounds\u001b[39m: No data found in bounds."
     ]
    }
   ],
   "source": [
    "coincident.io.download.download_ncalm_dem(\n",
    "    aoi=tapped_bounds,\n",
    "    dataset_id=gf_ncalm[\"name\"].item(),\n",
    "    product='dsm',\n",
    "    output_dir=output_dir)"
   ]
  },
  {
   "cell_type": "markdown",
   "id": "64605bbc-bb94-4bfa-9219-3a3e56c14b4c",
   "metadata": {},
   "source": [
    "#### This was returning an error of No data found in bounds. \n",
    "\n",
    "#### I then ended up finding the location of the vrt data on s3 and process from there for lack of time"
   ]
  },
  {
   "cell_type": "code",
   "execution_count": 38,
   "id": "595c6f4e-c667-4d4e-9687-60a3f66b0400",
   "metadata": {},
   "outputs": [
    {
     "name": "stdout",
     "output_type": "stream",
     "text": [
      "Driver: VRT/Virtual Raster\n",
      "Files: /vsicurl/https://opentopography.s3.sdsc.edu/raster/CA21_Bunds/CA21_Bunds_hh.vrt\n",
      "       /vsicurl/https://opentopography.s3.sdsc.edu/raster/CA21_Bunds/CA21_Bunds_hh/SSAF_v12cOT_10cmDSM_ITRF14-2020.1-epsg32611_ellhts-12-11.tif\n",
      "       /vsicurl/https://opentopography.s3.sdsc.edu/raster/CA21_Bunds/CA21_Bunds_hh/SSAF_v12cOT_10cmDSM_ITRF14-2020.1-epsg32611_ellhts-16-18.tif\n",
      "       /vsicurl/https://opentopography.s3.sdsc.edu/raster/CA21_Bunds/CA21_Bunds_hh/SSAF_v12cOT_10cmDSM_ITRF14-2020.1-epsg32611_ellhts-5-5.tif\n",
      "       /vsicurl/https://opentopography.s3.sdsc.edu/raster/CA21_Bunds/CA21_Bunds_hh/SSAF_v12cOT_10cmDSM_ITRF14-2020.1-epsg32611_ellhts-19-19.tif\n",
      "       /vsicurl/https://opentopography.s3.sdsc.edu/raster/CA21_Bunds/CA21_Bunds_hh/SSAF_v12cOT_10cmDSM_ITRF14-2020.1-epsg32611_ellhts-13-14.tif\n",
      "       /vsicurl/https://opentopography.s3.sdsc.edu/raster/CA21_Bunds/CA21_Bunds_hh/SSAF_v12cOT_10cmDSM_ITRF14-2020.1-epsg32611_ellhts-5-6.tif\n",
      "       /vsicurl/https://opentopography.s3.sdsc.edu/raster/CA21_Bunds/CA21_Bunds_hh/SSAF_v12cOT_10cmDSM_ITRF14-2020.1-epsg32611_ellhts-29-29.tif\n",
      "       /vsicurl/https://opentopography.s3.sdsc.edu/raster/CA21_Bunds/CA21_Bunds_hh/SSAF_v12cOT_10cmDSM_ITRF14-2020.1-epsg32611_ellhts-30-30.tif\n",
      "       /vsicurl/https://opentopography.s3.sdsc.edu/raster/CA21_Bunds/CA21_Bunds_hh/SSAF_v12cOT_10cmDSM_ITRF14-2020.1-epsg32611_ellhts-23-22.tif\n",
      "       /vsicurl/https://opentopography.s3.sdsc.edu/raster/CA21_Bunds/CA21_Bunds_hh/SSAF_v12cOT_10cmDSM_ITRF14-2020.1-epsg32611_ellhts-4-3.tif\n",
      "       /vsicurl/https://opentopography.s3.sdsc.edu/raster/CA21_Bunds/CA21_Bunds_hh/SSAF_v12cOT_10cmDSM_ITRF14-2020.1-epsg32611_ellhts-11-10.tif\n",
      "       /vsicurl/https://opentopography.s3.sdsc.edu/raster/CA21_Bunds/CA21_Bunds_hh/SSAF_v12cOT_10cmDSM_ITRF14-2020.1-epsg32611_ellhts-27-26.tif\n",
      "       /vsicurl/https://opentopography.s3.sdsc.edu/raster/CA21_Bunds/CA21_Bunds_hh/SSAF_v12cOT_10cmDSM_ITRF14-2020.1-epsg32611_ellhts-16-17.tif\n",
      "       /vsicurl/https://opentopography.s3.sdsc.edu/raster/CA21_Bunds/CA21_Bunds_hh/SSAF_v12cOT_10cmDSM_ITRF14-2020.1-epsg32611_ellhts-14-16.tif\n",
      "       /vsicurl/https://opentopography.s3.sdsc.edu/raster/CA21_Bunds/CA21_Bunds_hh/SSAF_v12cOT_10cmDSM_ITRF14-2020.1-epsg32611_ellhts-2-3.tif\n",
      "       /vsicurl/https://opentopography.s3.sdsc.edu/raster/CA21_Bunds/CA21_Bunds_hh/SSAF_v12cOT_10cmDSM_ITRF14-2020.1-epsg32611_ellhts-30-28.tif\n",
      "       /vsicurl/https://opentopography.s3.sdsc.edu/raster/CA21_Bunds/CA21_Bunds_hh/SSAF_v12cOT_10cmDSM_ITRF14-2020.1-epsg32611_ellhts-21-21.tif\n",
      "       /vsicurl/https://opentopography.s3.sdsc.edu/raster/CA21_Bunds/CA21_Bunds_hh/SSAF_v12cOT_10cmDSM_ITRF14-2020.1-epsg32611_ellhts-23-24.tif\n",
      "       /vsicurl/https://opentopography.s3.sdsc.edu/raster/CA21_Bunds/CA21_Bunds_hh/SSAF_v12cOT_10cmDSM_ITRF14-2020.1-epsg32611_ellhts-3-3.tif\n",
      "       /vsicurl/https://opentopography.s3.sdsc.edu/raster/CA21_Bunds/CA21_Bunds_hh/SSAF_v12cOT_10cmDSM_ITRF14-2020.1-epsg32611_ellhts-17-18.tif\n",
      "       /vsicurl/https://opentopography.s3.sdsc.edu/raster/CA21_Bunds/CA21_Bunds_hh/SSAF_v12cOT_10cmDSM_ITRF14-2020.1-epsg32611_ellhts-17-17.tif\n",
      "       /vsicurl/https://opentopography.s3.sdsc.edu/raster/CA21_Bunds/CA21_Bunds_hh/SSAF_v12cOT_10cmDSM_ITRF14-2020.1-epsg32611_ellhts-22-22.tif\n",
      "       /vsicurl/https://opentopography.s3.sdsc.edu/raster/CA21_Bunds/CA21_Bunds_hh/SSAF_v12cOT_10cmDSM_ITRF14-2020.1-epsg32611_ellhts-24-25.tif\n",
      "       /vsicurl/https://opentopography.s3.sdsc.edu/raster/CA21_Bunds/CA21_Bunds_hh/SSAF_v12cOT_10cmDSM_ITRF14-2020.1-epsg32611_ellhts-28-28.tif\n",
      "       /vsicurl/https://opentopography.s3.sdsc.edu/raster/CA21_Bunds/CA21_Bunds_hh/SSAF_v12cOT_10cmDSM_ITRF14-2020.1-epsg32611_ellhts-15-16.tif\n",
      "       /vsicurl/https://opentopography.s3.sdsc.edu/raster/CA21_Bunds/CA21_Bunds_hh/SSAF_v12cOT_10cmDSM_ITRF14-2020.1-epsg32611_ellhts-13-12.tif\n",
      "       /vsicurl/https://opentopography.s3.sdsc.edu/raster/CA21_Bunds/CA21_Bunds_hh/SSAF_v12cOT_10cmDSM_ITRF14-2020.1-epsg32611_ellhts-27-27.tif\n",
      "       /vsicurl/https://opentopography.s3.sdsc.edu/raster/CA21_Bunds/CA21_Bunds_hh/SSAF_v12cOT_10cmDSM_ITRF14-2020.1-epsg32611_ellhts-20-20.tif\n",
      "       /vsicurl/https://opentopography.s3.sdsc.edu/raster/CA21_Bunds/CA21_Bunds_hh/SSAF_v12cOT_10cmDSM_ITRF14-2020.1-epsg32611_ellhts-31-31.tif\n",
      "       /vsicurl/https://opentopography.s3.sdsc.edu/raster/CA21_Bunds/CA21_Bunds_hh/SSAF_v12cOT_10cmDSM_ITRF14-2020.1-epsg32611_ellhts-9-9.tif\n",
      "       /vsicurl/https://opentopography.s3.sdsc.edu/raster/CA21_Bunds/CA21_Bunds_hh/SSAF_v12cOT_10cmDSM_ITRF14-2020.1-epsg32611_ellhts-30-31.tif\n",
      "       /vsicurl/https://opentopography.s3.sdsc.edu/raster/CA21_Bunds/CA21_Bunds_hh/SSAF_v12cOT_10cmDSM_ITRF14-2020.1-epsg32611_ellhts-5-4.tif\n",
      "       /vsicurl/https://opentopography.s3.sdsc.edu/raster/CA21_Bunds/CA21_Bunds_hh/SSAF_v12cOT_10cmDSM_ITRF14-2020.1-epsg32611_ellhts-31-30.tif\n",
      "       /vsicurl/https://opentopography.s3.sdsc.edu/raster/CA21_Bunds/CA21_Bunds_hh/SSAF_v12cOT_10cmDSM_ITRF14-2020.1-epsg32611_ellhts-24-23.tif\n",
      "       /vsicurl/https://opentopography.s3.sdsc.edu/raster/CA21_Bunds/CA21_Bunds_hh/SSAF_v12cOT_10cmDSM_ITRF14-2020.1-epsg32611_ellhts-11-13.tif\n",
      "       /vsicurl/https://opentopography.s3.sdsc.edu/raster/CA21_Bunds/CA21_Bunds_hh/SSAF_v12cOT_10cmDSM_ITRF14-2020.1-epsg32611_ellhts-22-23.tif\n",
      "       /vsicurl/https://opentopography.s3.sdsc.edu/raster/CA21_Bunds/CA21_Bunds_hh/SSAF_v12cOT_10cmDSM_ITRF14-2020.1-epsg32611_ellhts-8-7.tif\n",
      "       /vsicurl/https://opentopography.s3.sdsc.edu/raster/CA21_Bunds/CA21_Bunds_hh/SSAF_v12cOT_10cmDSM_ITRF14-2020.1-epsg32611_ellhts-11-11.tif\n",
      "       /vsicurl/https://opentopography.s3.sdsc.edu/raster/CA21_Bunds/CA21_Bunds_hh/SSAF_v12cOT_10cmDSM_ITRF14-2020.1-epsg32611_ellhts-6-5.tif\n",
      "       /vsicurl/https://opentopography.s3.sdsc.edu/raster/CA21_Bunds/CA21_Bunds_hh/SSAF_v12cOT_10cmDSM_ITRF14-2020.1-epsg32611_ellhts-14-14.tif\n",
      "       /vsicurl/https://opentopography.s3.sdsc.edu/raster/CA21_Bunds/CA21_Bunds_hh/SSAF_v12cOT_10cmDSM_ITRF14-2020.1-epsg32611_ellhts-11-12.tif\n",
      "       /vsicurl/https://opentopography.s3.sdsc.edu/raster/CA21_Bunds/CA21_Bunds_hh/SSAF_v12cOT_10cmDSM_ITRF14-2020.1-epsg32611_ellhts-12-14.tif\n",
      "       /vsicurl/https://opentopography.s3.sdsc.edu/raster/CA21_Bunds/CA21_Bunds_hh/SSAF_v12cOT_10cmDSM_ITRF14-2020.1-epsg32611_ellhts-26-27.tif\n",
      "       /vsicurl/https://opentopography.s3.sdsc.edu/raster/CA21_Bunds/CA21_Bunds_hh/SSAF_v12cOT_10cmDSM_ITRF14-2020.1-epsg32611_ellhts-14-15.tif\n",
      "       /vsicurl/https://opentopography.s3.sdsc.edu/raster/CA21_Bunds/CA21_Bunds_hh/SSAF_v12cOT_10cmDSM_ITRF14-2020.1-epsg32611_ellhts-21-22.tif\n",
      "       /vsicurl/https://opentopography.s3.sdsc.edu/raster/CA21_Bunds/CA21_Bunds_hh/SSAF_v12cOT_10cmDSM_ITRF14-2020.1-epsg32611_ellhts-15-17.tif\n",
      "       /vsicurl/https://opentopography.s3.sdsc.edu/raster/CA21_Bunds/CA21_Bunds_hh/SSAF_v12cOT_10cmDSM_ITRF14-2020.1-epsg32611_ellhts-24-24.tif\n",
      "       /vsicurl/https://opentopography.s3.sdsc.edu/raster/CA21_Bunds/CA21_Bunds_hh/SSAF_v12cOT_10cmDSM_ITRF14-2020.1-epsg32611_ellhts-29-27.tif\n",
      "       /vsicurl/https://opentopography.s3.sdsc.edu/raster/CA21_Bunds/CA21_Bunds_hh/SSAF_v12cOT_10cmDSM_ITRF14-2020.1-epsg32611_ellhts-8-9.tif\n",
      "       /vsicurl/https://opentopography.s3.sdsc.edu/raster/CA21_Bunds/CA21_Bunds_hh/SSAF_v12cOT_10cmDSM_ITRF14-2020.1-epsg32611_ellhts-12-12.tif\n",
      "       /vsicurl/https://opentopography.s3.sdsc.edu/raster/CA21_Bunds/CA21_Bunds_hh/SSAF_v12cOT_10cmDSM_ITRF14-2020.1-epsg32611_ellhts-18-18.tif\n",
      "       /vsicurl/https://opentopography.s3.sdsc.edu/raster/CA21_Bunds/CA21_Bunds_hh/SSAF_v12cOT_10cmDSM_ITRF14-2020.1-epsg32611_ellhts-13-13.tif\n",
      "       /vsicurl/https://opentopography.s3.sdsc.edu/raster/CA21_Bunds/CA21_Bunds_hh/SSAF_v12cOT_10cmDSM_ITRF14-2020.1-epsg32611_ellhts-13-15.tif\n",
      "       /vsicurl/https://opentopography.s3.sdsc.edu/raster/CA21_Bunds/CA21_Bunds_hh/SSAF_v12cOT_10cmDSM_ITRF14-2020.1-epsg32611_ellhts-4-4.tif\n",
      "       /vsicurl/https://opentopography.s3.sdsc.edu/raster/CA21_Bunds/CA21_Bunds_hh/SSAF_v12cOT_10cmDSM_ITRF14-2020.1-epsg32611_ellhts-26-25.tif\n",
      "       /vsicurl/https://opentopography.s3.sdsc.edu/raster/CA21_Bunds/CA21_Bunds_hh/SSAF_v12cOT_10cmDSM_ITRF14-2020.1-epsg32611_ellhts-25-25.tif\n",
      "       /vsicurl/https://opentopography.s3.sdsc.edu/raster/CA21_Bunds/CA21_Bunds_hh/SSAF_v12cOT_10cmDSM_ITRF14-2020.1-epsg32611_ellhts-17-19.tif\n",
      "       /vsicurl/https://opentopography.s3.sdsc.edu/raster/CA21_Bunds/CA21_Bunds_hh/SSAF_v12cOT_10cmDSM_ITRF14-2020.1-epsg32611_ellhts-10-10.tif\n",
      "       /vsicurl/https://opentopography.s3.sdsc.edu/raster/CA21_Bunds/CA21_Bunds_hh/SSAF_v12cOT_10cmDSM_ITRF14-2020.1-epsg32611_ellhts-28-27.tif\n",
      "       /vsicurl/https://opentopography.s3.sdsc.edu/raster/CA21_Bunds/CA21_Bunds_hh/SSAF_v12cOT_10cmDSM_ITRF14-2020.1-epsg32611_ellhts-18-20.tif\n",
      "       /vsicurl/https://opentopography.s3.sdsc.edu/raster/CA21_Bunds/CA21_Bunds_hh/SSAF_v12cOT_10cmDSM_ITRF14-2020.1-epsg32611_ellhts-15-15.tif\n",
      "       /vsicurl/https://opentopography.s3.sdsc.edu/raster/CA21_Bunds/CA21_Bunds_hh/SSAF_v12cOT_10cmDSM_ITRF14-2020.1-epsg32611_ellhts-20-21.tif\n",
      "       /vsicurl/https://opentopography.s3.sdsc.edu/raster/CA21_Bunds/CA21_Bunds_hh/SSAF_v12cOT_10cmDSM_ITRF14-2020.1-epsg32611_ellhts-7-7.tif\n",
      "       /vsicurl/https://opentopography.s3.sdsc.edu/raster/CA21_Bunds/CA21_Bunds_hh/SSAF_v12cOT_10cmDSM_ITRF14-2020.1-epsg32611_ellhts-26-26.tif\n",
      "       /vsicurl/https://opentopography.s3.sdsc.edu/raster/CA21_Bunds/CA21_Bunds_hh/SSAF_v12cOT_10cmDSM_ITRF14-2020.1-epsg32611_ellhts-7-8.tif\n",
      "       /vsicurl/https://opentopography.s3.sdsc.edu/raster/CA21_Bunds/CA21_Bunds_hh/SSAF_v12cOT_10cmDSM_ITRF14-2020.1-epsg32611_ellhts-20-22.tif\n",
      "       /vsicurl/https://opentopography.s3.sdsc.edu/raster/CA21_Bunds/CA21_Bunds_hh/SSAF_v12cOT_10cmDSM_ITRF14-2020.1-epsg32611_ellhts-12-13.tif\n",
      "       /vsicurl/https://opentopography.s3.sdsc.edu/raster/CA21_Bunds/CA21_Bunds_hh/SSAF_v12cOT_10cmDSM_ITRF14-2020.1-epsg32611_ellhts-25-24.tif\n",
      "       /vsicurl/https://opentopography.s3.sdsc.edu/raster/CA21_Bunds/CA21_Bunds_hh/SSAF_v12cOT_10cmDSM_ITRF14-2020.1-epsg32611_ellhts-7-6.tif\n",
      "       /vsicurl/https://opentopography.s3.sdsc.edu/raster/CA21_Bunds/CA21_Bunds_hh/SSAF_v12cOT_10cmDSM_ITRF14-2020.1-epsg32611_ellhts-18-19.tif\n",
      "       /vsicurl/https://opentopography.s3.sdsc.edu/raster/CA21_Bunds/CA21_Bunds_hh/SSAF_v12cOT_10cmDSM_ITRF14-2020.1-epsg32611_ellhts-4-5.tif\n",
      "       /vsicurl/https://opentopography.s3.sdsc.edu/raster/CA21_Bunds/CA21_Bunds_hh/SSAF_v12cOT_10cmDSM_ITRF14-2020.1-epsg32611_ellhts-6-7.tif\n",
      "       /vsicurl/https://opentopography.s3.sdsc.edu/raster/CA21_Bunds/CA21_Bunds_hh/SSAF_v12cOT_10cmDSM_ITRF14-2020.1-epsg32611_ellhts-3-2.tif\n",
      "       /vsicurl/https://opentopography.s3.sdsc.edu/raster/CA21_Bunds/CA21_Bunds_hh/SSAF_v12cOT_10cmDSM_ITRF14-2020.1-epsg32611_ellhts-10-11.tif\n",
      "       /vsicurl/https://opentopography.s3.sdsc.edu/raster/CA21_Bunds/CA21_Bunds_hh/SSAF_v12cOT_10cmDSM_ITRF14-2020.1-epsg32611_ellhts-22-21.tif\n",
      "       /vsicurl/https://opentopography.s3.sdsc.edu/raster/CA21_Bunds/CA21_Bunds_hh/SSAF_v12cOT_10cmDSM_ITRF14-2020.1-epsg32611_ellhts-8-8.tif\n",
      "       /vsicurl/https://opentopography.s3.sdsc.edu/raster/CA21_Bunds/CA21_Bunds_hh/SSAF_v12cOT_10cmDSM_ITRF14-2020.1-epsg32611_ellhts-25-26.tif\n",
      "       /vsicurl/https://opentopography.s3.sdsc.edu/raster/CA21_Bunds/CA21_Bunds_hh/SSAF_v12cOT_10cmDSM_ITRF14-2020.1-epsg32611_ellhts-30-29.tif\n",
      "       /vsicurl/https://opentopography.s3.sdsc.edu/raster/CA21_Bunds/CA21_Bunds_hh/SSAF_v12cOT_10cmDSM_ITRF14-2020.1-epsg32611_ellhts-9-8.tif\n",
      "       /vsicurl/https://opentopography.s3.sdsc.edu/raster/CA21_Bunds/CA21_Bunds_hh/SSAF_v12cOT_10cmDSM_ITRF14-2020.1-epsg32611_ellhts-3-4.tif\n",
      "       /vsicurl/https://opentopography.s3.sdsc.edu/raster/CA21_Bunds/CA21_Bunds_hh/SSAF_v12cOT_10cmDSM_ITRF14-2020.1-epsg32611_ellhts-10-9.tif\n",
      "       /vsicurl/https://opentopography.s3.sdsc.edu/raster/CA21_Bunds/CA21_Bunds_hh/SSAF_v12cOT_10cmDSM_ITRF14-2020.1-epsg32611_ellhts-9-10.tif\n",
      "       /vsicurl/https://opentopography.s3.sdsc.edu/raster/CA21_Bunds/CA21_Bunds_hh/SSAF_v12cOT_10cmDSM_ITRF14-2020.1-epsg32611_ellhts-16-16.tif\n",
      "       /vsicurl/https://opentopography.s3.sdsc.edu/raster/CA21_Bunds/CA21_Bunds_hh/SSAF_v12cOT_10cmDSM_ITRF14-2020.1-epsg32611_ellhts-29-28.tif\n",
      "       /vsicurl/https://opentopography.s3.sdsc.edu/raster/CA21_Bunds/CA21_Bunds_hh/SSAF_v12cOT_10cmDSM_ITRF14-2020.1-epsg32611_ellhts-23-23.tif\n",
      "       /vsicurl/https://opentopography.s3.sdsc.edu/raster/CA21_Bunds/CA21_Bunds_hh/SSAF_v12cOT_10cmDSM_ITRF14-2020.1-epsg32611_ellhts-19-20.tif\n",
      "       /vsicurl/https://opentopography.s3.sdsc.edu/raster/CA21_Bunds/CA21_Bunds_hh/SSAF_v12cOT_10cmDSM_ITRF14-2020.1-epsg32611_ellhts-2-2.tif\n",
      "       /vsicurl/https://opentopography.s3.sdsc.edu/raster/CA21_Bunds/CA21_Bunds_hh/SSAF_v12cOT_10cmDSM_ITRF14-2020.1-epsg32611_ellhts-10-12.tif\n",
      "       /vsicurl/https://opentopography.s3.sdsc.edu/raster/CA21_Bunds/CA21_Bunds_hh/SSAF_v12cOT_10cmDSM_ITRF14-2020.1-epsg32611_ellhts-6-6.tif\n",
      "       /vsicurl/https://opentopography.s3.sdsc.edu/raster/CA21_Bunds/CA21_Bunds_hh/SSAF_v12cOT_10cmDSM_ITRF14-2020.1-epsg32611_ellhts-19-21.tif\n",
      "Size is 300000, 300000\n",
      "Coordinate System is:\n",
      "PROJCRS[\"WGS 84 / UTM zone 11N\",\n",
      "    BASEGEOGCRS[\"WGS 84\",\n",
      "        DATUM[\"World Geodetic System 1984\",\n",
      "            ELLIPSOID[\"WGS 84\",6378137,298.257223563,\n",
      "                LENGTHUNIT[\"metre\",1]]],\n",
      "        PRIMEM[\"Greenwich\",0,\n",
      "            ANGLEUNIT[\"degree\",0.0174532925199433]],\n",
      "        ID[\"EPSG\",4326]],\n",
      "    CONVERSION[\"UTM zone 11N\",\n",
      "        METHOD[\"Transverse Mercator\",\n",
      "            ID[\"EPSG\",9807]],\n",
      "        PARAMETER[\"Latitude of natural origin\",0,\n",
      "            ANGLEUNIT[\"degree\",0.0174532925199433],\n",
      "            ID[\"EPSG\",8801]],\n",
      "        PARAMETER[\"Longitude of natural origin\",-117,\n",
      "            ANGLEUNIT[\"degree\",0.0174532925199433],\n",
      "            ID[\"EPSG\",8802]],\n",
      "        PARAMETER[\"Scale factor at natural origin\",0.9996,\n",
      "            SCALEUNIT[\"unity\",1],\n",
      "            ID[\"EPSG\",8805]],\n",
      "        PARAMETER[\"False easting\",500000,\n",
      "            LENGTHUNIT[\"metre\",1],\n",
      "            ID[\"EPSG\",8806]],\n",
      "        PARAMETER[\"False northing\",0,\n",
      "            LENGTHUNIT[\"metre\",1],\n",
      "            ID[\"EPSG\",8807]]],\n",
      "    CS[Cartesian,2],\n",
      "        AXIS[\"easting\",east,\n",
      "            ORDER[1],\n",
      "            LENGTHUNIT[\"metre\",1]],\n",
      "        AXIS[\"northing\",north,\n",
      "            ORDER[2],\n",
      "            LENGTHUNIT[\"metre\",1]],\n",
      "    ID[\"EPSG\",32611]]\n",
      "Data axis to CRS axis mapping: 1,2\n",
      "Origin = (588763.506070076138712,3720946.871996473986655)\n",
      "Pixel Size = (0.100000000000000,-0.100000000000000)\n",
      "Corner Coordinates:\n",
      "Upper Left  (  588763.506, 3720946.872) (116d 2'34.87\"W, 33d37'28.65\"N)\n",
      "Lower Left  (  588763.506, 3690946.872) (116d 2'45.57\"W, 33d21'14.66\"N)\n",
      "Upper Right (  618763.506, 3720946.872) (115d43'10.72\"W, 33d37'18.12\"N)\n",
      "Lower Right (  618763.506, 3690946.872) (115d43'25.03\"W, 33d21' 4.24\"N)\n",
      "Center      (  603763.506, 3705946.872) (115d52'59.05\"W, 33d29'16.80\"N)\n",
      "Band 1 Block=128x128 Type=Float32, ColorInterp=Gray\n",
      "  NoData Value=-32767\n"
     ]
    }
   ],
   "source": [
    "vrt_fn = '/vsicurl/https://opentopography.s3.sdsc.edu/raster/CA21_Bunds/CA21_Bunds_hh.vrt'\n",
    "!gdalinfo $vrt_fn"
   ]
  },
  {
   "cell_type": "markdown",
   "id": "4cb7a4d5-2b6c-49b8-8df4-dc941890491c",
   "metadata": {},
   "source": [
    "#### Import some lidar_tools geo-processing functions"
   ]
  },
  {
   "cell_type": "code",
   "execution_count": 15,
   "id": "0eb578fb-5005-4884-90aa-c2840159c500",
   "metadata": {},
   "outputs": [],
   "source": [
    "def nearest_floor(x: int | float, a: int | float) -> int | float:\n",
    "    \"\"\"\n",
    "    Round down to the nearest smaller multiple of a.\n",
    "    \"\"\"\n",
    "    return np.floor(x / a) * a\n",
    "\n",
    "\n",
    "def nearest_ceil(x: int | float, a: int | float) -> int | float:\n",
    "    \"\"\"\n",
    "    Round down to the nearest larger multiple of a.\n",
    "    \"\"\"\n",
    "    return np.ceil(x / a) * a\n",
    "\n",
    "\n",
    "def tap_bounds(site_bounds: tuple | list | np.ndarray, res: int | float) -> list:\n",
    "    \"\"\"\n",
    "    calculate target aligned pixel bounds for a given site bounds and resolution.\n",
    "\n",
    "    Parameters\n",
    "    ----------\n",
    "    site_bounds:\n",
    "        array of bounds with the following order [minx, miny, maxx, maxy]\n",
    "    res:\n",
    "        resolution in same units of site_bounds\n",
    "\n",
    "    Returns\n",
    "    -------\n",
    "    target_aligned_bounds: list[float]\n",
    "        Adjusted bounds such that extent is a multiple of resolution\n",
    "\n",
    "    Notes\n",
    "    -----\n",
    "    - From https://github.com/uw-cryo/EarthLab_AirQuality_UAV/blob/main/notebooks/EarthLab_AQ_lidar_download_processing_function.ipynb\n",
    "    - See also https://gdal.org/en/stable/programs/gdalwarp.html#cmdoption-gdalwarp-tap\n",
    "    \"\"\"\n",
    "    return [\n",
    "        nearest_floor(site_bounds[0], res),\n",
    "        nearest_floor(site_bounds[1], res),\n",
    "        nearest_ceil(site_bounds[2], res),\n",
    "        nearest_ceil(site_bounds[3], res),\n",
    "    ]\n",
    "\n",
    "from osgeo import gdal,gdalconst\n",
    "def gdal_add_overview(raster_fn: str,ensure_cog=True) -> None:\n",
    "    \"\"\"\n",
    "    Add Gaussian overviews to a raster file using GDAL.\n",
    "    Converts the raster to a COG, \n",
    "        as adding Gaussian overviews added to tiled and compressed rasters does not automatically ensure COG compliance\n",
    "\n",
    "    Parameters\n",
    "    ----------\n",
    "    raster_fn : str\n",
    "        Path to the raster file.\n",
    "    ensure_cog : bool, optional\n",
    "        Whether to ensure the output raster is a COG, by default True.\n",
    "    \"\"\"\n",
    "    print(f\"Adding Gaussian overviews to {raster_fn}\")\n",
    "    with gdal.OpenEx(raster_fn, 1, open_options=[\"IGNORE_COG_LAYOUT_BREAK=YES\"]) as ds:\n",
    "        gdal.SetConfigOption(\"COMPRESS_OVERVIEW\", \"DEFLATE\")\n",
    "        ds.BuildOverviews(\n",
    "            \"GAUSS\", [2, 4, 8, 16, 32, 64], callback=gdal.TermProgress_nocb\n",
    "        )\n",
    "    \n",
    "    if ensure_cog:\n",
    "        temp_fn =Path(raster_fn).parent / f\"{Path(raster_fn).stem}-cop-temp.tif\"\n",
    "        gdal.Translate(\n",
    "            str(temp_fn),\n",
    "            raster_fn,\n",
    "            format=\"COG\",\n",
    "            creationOptions=[\"OVERVIEWS=FORCE_USE_EXISTING\",\"BIGTIFF=IF_SAFER\"],\n",
    "            callback=gdal.TermProgress_nocb,\n",
    "        )\n",
    "        rename_rasters(str(temp_fn), raster_fn)\n",
    "\n",
    "\n",
    "def gdal_warp(\n",
    "    src_fn: str,\n",
    "    dst_fn: str,\n",
    "    src_srs: str,\n",
    "    dst_srs: str,\n",
    "    res: float = 1.0,\n",
    "    resampling_alogrithm: str = \"bilinear\",\n",
    "    out_extent: list = None,\n",
    ") -> None:\n",
    "    \"\"\"\n",
    "    Warp a raster file to a new coordinate reference system and resolution using GDAL.\n",
    "    Parameters\n",
    "    ----------\n",
    "    src_fn : str\n",
    "        Path to the source raster file.\n",
    "    dst_fn : str\n",
    "        Path to the destination raster file.\n",
    "    src_srs : str\n",
    "        Source coordinate reference system in WKT format.\n",
    "    dst_srs : str\n",
    "        Destination coordinate reference system in WKT format\n",
    "    res : float, optional\n",
    "        Resolution for the output raster, by default 1.0.\n",
    "    resampling_alogrithm : str, optional\n",
    "        Resampling algorithm to use, by default 'cubic'.\n",
    "    out_extent : list, optional\n",
    "        The extent of the output raster in the format [minx, miny, maxx, maxy], by default None.\n",
    "    Returns \n",
    "    ------\n",
    "    None\n",
    "    This function does not return anything, it writes the output raster to the specified file.\n",
    "    \"\"\"\n",
    "    tolerance = 0\n",
    "    resampling_mapping = {\n",
    "        \"nearest\": gdalconst.GRA_NearestNeighbour,\n",
    "        \"bilinear\": gdalconst.GRA_Bilinear,\n",
    "        \"cubic\": gdalconst.GRA_Cubic,\n",
    "        \"cubic_spline\": gdalconst.GRA_CubicSpline,\n",
    "    }\n",
    "    resampling_alg = resampling_mapping[resampling_alogrithm]\n",
    "\n",
    "    ds = gdal.Warp(\n",
    "        dst_fn,\n",
    "        src_fn,\n",
    "        resampleAlg=resampling_alg,\n",
    "        srcSRS=src_srs,\n",
    "        xRes=res,\n",
    "        yRes=res,\n",
    "        dstSRS=dst_srs,\n",
    "        errorThreshold=tolerance,\n",
    "        targetAlignedPixels=True,\n",
    "        # use directly output format as COG when gaussian overview resampling is implemented upstream in GDAL\n",
    "        outputBounds=out_extent,\n",
    "        creationOptions=[\"COMPRESS=LZW\", \"TILED=YES\", \"COPY_SRC_OVERVIEWS=YES\",\"BIGTIFF=IF_SAFER\"],\n",
    "        callback=gdal.TermProgress_nocb,\n",
    "    )\n",
    "    ds.Close()\n",
    "def rename_rasters(raster_fn,out_fn) -> None:\n",
    "    \"\"\"\n",
    "    Rename the raster file to the final output name and the associated XML file if it exists.\n",
    "    Parameters\n",
    "    ----------\n",
    "    raster_fn : str\n",
    "        Path to the raster file to be renamed.\n",
    "    out_fn : str\n",
    "        Path to the output raster file name.\n",
    "    Returns\n",
    "    -------\n",
    "    None\n",
    "    This function does not return anything, it renames the raster file and its associated XML file\n",
    "    \"\"\"\n",
    "    raster_path = Path(raster_fn)\n",
    "    xml_fn = raster_fn + \".aux.xml\"\n",
    "    Path(raster_fn).rename(out_fn)\n",
    "    if Path(xml_fn).exists():\n",
    "        out_fn_xml = out_fn + \".aux.xml\"\n",
    "        Path(xml_fn).rename(out_fn_xml)"
   ]
  },
  {
   "cell_type": "code",
   "execution_count": 56,
   "id": "8c54606a-9c7c-4e96-9065-14d79850ac8e",
   "metadata": {},
   "outputs": [],
   "source": [
    "\n",
    "tapped_bounds_native = gpd.GeoDataFrame(\n",
    "    geometry=[box(*tap_bounds(gdf_proc_extent.to_crs('EPSG:32611').total_bounds,res=0.1))],\n",
    "    crs='EPSG:32611')\n",
    "tapped_bounds_1m = gpd.GeoDataFrame(\n",
    "    geometry=[box(*tap_bounds(gdf_proc_extent.to_crs('EPSG:32611').total_bounds,res=1.0))],\n",
    "    crs='EPSG:32611')"
   ]
  },
  {
   "cell_type": "code",
   "execution_count": 74,
   "id": "b5ba423c-523e-4dff-be21-d87b9a450b4f",
   "metadata": {},
   "outputs": [],
   "source": [
    "output_fn = os.path.join(output_dir,'ncalm_sa_fault_dsm_native_res.tif')"
   ]
  },
  {
   "cell_type": "code",
   "execution_count": 63,
   "id": "24838e8b-53d7-4785-8e98-1f4435958814",
   "metadata": {},
   "outputs": [],
   "source": [
    "minx,miny,maxx,maxy = tapped_bounds_native.total_bounds"
   ]
  },
  {
   "cell_type": "code",
   "execution_count": 65,
   "id": "a1849404-27a8-47aa-8b98-4c0c54a4d28f",
   "metadata": {},
   "outputs": [
    {
     "name": "stdout",
     "output_type": "stream",
     "text": [
      "100 - done in 00:04:16.\n",
      "0...10...20...30...40...50...60...70...80...90..."
     ]
    },
    {
     "data": {
      "text/plain": [
       "<osgeo.gdal.Dataset; proxy of <Swig Object of type 'GDALDatasetShadow *' at 0x146aba7f87e0> >"
      ]
     },
     "execution_count": 65,
     "metadata": {},
     "output_type": "execute_result"
    }
   ],
   "source": [
    "out_extent = [minx,maxy,maxx,miny]\n",
    "gdal.Translate(output_fn,vrt_fn,\n",
    "               projWin=out_extent,\n",
    "               creationOptions=[\"COMPRESS=LZW\", \"TILED=YES\"],\n",
    "               callback=gdal.TermProgress_nocb)"
   ]
  },
  {
   "cell_type": "code",
   "execution_count": 69,
   "id": "8063d3f7-d6a4-4d97-87c9-be1027a805f3",
   "metadata": {},
   "outputs": [
    {
     "name": "stdout",
     "output_type": "stream",
     "text": [
      "Adding Gaussian overviews to /panfs/ccds02/nobackup/people/sbhusha1/pcd/ncalm/sa_fault/ncalm_sa_fault_dsm_native_res.tif\n",
      "100 - done in 00:04:03.\n",
      "0...10...20...30...40...50...60...70...80...90...100 - done in 00:02:13.\n",
      "0...10...20...30...40...50...60...70...80...90..."
     ]
    }
   ],
   "source": [
    "gdal_add_overview(output_fn)"
   ]
  },
  {
   "cell_type": "markdown",
   "id": "cb969514-cb74-4286-8fab-8ddb416eb1e3",
   "metadata": {},
   "source": [
    "#### Project to UTM 11 G2139, 1 m resolution, and tapped extent"
   ]
  },
  {
   "cell_type": "code",
   "execution_count": 70,
   "id": "5c1937c2-4c37-490f-89e2-a45aa14c8a86",
   "metadata": {},
   "outputs": [],
   "source": [
    "out_srs = '/panfs/ccds02/nobackup/people/sbhusha1/pcd/pcd_usgs_lpc_proc_total_bounds/CA_YosemiteNP_2019_processing/UTM_11N_WGS84_G2139_3D.wkt'"
   ]
  },
  {
   "cell_type": "code",
   "execution_count": 71,
   "id": "6f3b9c55-a5fe-4780-be5e-563d4b531956",
   "metadata": {},
   "outputs": [
    {
     "data": {
      "text/plain": [
       "array([ 612027., 3691225.,  618050., 3698803.])"
      ]
     },
     "execution_count": 71,
     "metadata": {},
     "output_type": "execute_result"
    }
   ],
   "source": [
    "tapped_bounds_1m.total_bounds"
   ]
  },
  {
   "cell_type": "code",
   "execution_count": 73,
   "id": "9ea675a5-31dd-44e9-9150-69b07c87167d",
   "metadata": {},
   "outputs": [],
   "source": [
    "output_fn_1m = os.path.join(output_dir,'ncalm_sa_fault_dsm_1m.tif')"
   ]
  },
  {
   "cell_type": "code",
   "execution_count": 77,
   "id": "5a3fcf82-99eb-4ed0-900d-14c2dae2eb07",
   "metadata": {},
   "outputs": [
    {
     "name": "stdout",
     "output_type": "stream",
     "text": [
      "100 - done in 00:04:02.\n",
      "0...10...20...30...40...50...60...70...80...90..."
     ]
    }
   ],
   "source": [
    "gdal_warp(output_fn,\n",
    "          output_fn_1m,\n",
    "          'EPSG:32611',\n",
    "          out_srs,\n",
    "          1.0,\n",
    "          'bilinear',\n",
    "          out_extent = tapped_bounds_1m.total_bounds)"
   ]
  },
  {
   "cell_type": "code",
   "execution_count": 78,
   "id": "300a6532-f7b1-4892-b577-fa86f0fcee66",
   "metadata": {},
   "outputs": [
    {
     "name": "stdout",
     "output_type": "stream",
     "text": [
      "Adding Gaussian overviews to /panfs/ccds02/nobackup/people/sbhusha1/pcd/ncalm/sa_fault/ncalm_sa_fault_dsm_1m.tif\n",
      "100 - done in 00:00:06.\n",
      "0...10...20...30...40...50...60...70...80...90...100 - done.\n",
      "0...10...20...30...40...50...60...70...80...90..."
     ]
    }
   ],
   "source": [
    "gdal_add_overview(output_fn_1m)"
   ]
  },
  {
   "cell_type": "code",
   "execution_count": null,
   "id": "33e8bec5-138c-4c46-8cda-20fa482e2c32",
   "metadata": {},
   "outputs": [],
   "source": []
  }
 ],
 "metadata": {
  "kernelspec": {
   "display_name": "Python [conda env:.conda-coincident]",
   "language": "python",
   "name": "conda-env-.conda-coincident-py"
  },
  "language_info": {
   "codemirror_mode": {
    "name": "ipython",
    "version": 3
   },
   "file_extension": ".py",
   "mimetype": "text/x-python",
   "name": "python",
   "nbconvert_exporter": "python",
   "pygments_lexer": "ipython3",
   "version": "3.13.7"
  }
 },
 "nbformat": 4,
 "nbformat_minor": 5
}
